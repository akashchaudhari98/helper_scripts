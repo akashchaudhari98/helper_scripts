{
 "cells": [
  {
   "cell_type": "code",
   "execution_count": 1,
   "metadata": {},
   "outputs": [],
   "source": [
    "import gensim\n",
    "from gensim.models.doc2vec import Doc2Vec, TaggedDocument\n",
    "from gensim.test.test_doc2vec import ConcatenatedDoc2Vec\n",
    "from nltk.tokenize import word_tokenize\n",
    "import matplotlib.pyplot as plt\n",
    "from sklearn.manifold import TSNE\n",
    "import multiprocessing\n",
    "from multiprocessing import Pool\n",
    "import os\n",
    "import pdf_to_txt\n",
    "import seaborn as sns\n",
    "cores = multiprocessing.cpu_count()\n",
    "assert gensim.models.doc2vec.FAST_VERSION > -1"
   ]
  },
  {
   "cell_type": "code",
   "execution_count": 2,
   "metadata": {},
   "outputs": [
    {
     "name": "stdout",
     "output_type": "stream",
     "text": [
      "D:/projects/ZInc/New folder/book_txt/ICICI_Home_ Loan_FAQ\n",
      "D:/projects/ZInc/New folder/book_txt/PCB-design-basics\n",
      "D:/projects/ZInc/New folder/book_txt/PRALAY\n",
      "D:/projects/ZInc/New folder/book_txt/Raavan\n",
      "D:/projects/ZInc/New folder/book_txt/Roll of the Dice\n",
      "D:/projects/ZInc/New folder/book_txt/Scion of Ikshvaku\n",
      "D:/projects/ZInc/New folder/book_txt/Sita An Illustrated Retelling of the Ramayana by Devdutt Pattanaik\n",
      "D:/projects/ZInc/New folder/book_txt/Sita\n",
      "D:/projects/ZInc/New folder/book_txt/The Immortals of Meluha\n",
      "D:/projects/ZInc/New folder/book_txt/The Krishna Key\n",
      "D:/projects/ZInc/New folder/book_txt/The Oath of the Vayuputras\n",
      "D:/projects/ZInc/New folder/book_txt/The Secret of the Nagas\n",
      "preprocessing\n",
      "preprocessing\n",
      "preprocessing\n",
      "preprocessing\n",
      "preprocessing\n",
      "preprocessing\n",
      "preprocessing\n",
      "preprocessing\n",
      "preprocessing\n",
      "preprocessing\n",
      "preprocessing\n",
      "preprocessing\n",
      "<class 'list'>\n",
      "finished converting to txt\n"
     ]
    }
   ],
   "source": [
    "data = pdf_to_txt.final()\n",
    "print(\"finished converting to txt\")"
   ]
  },
  {
   "cell_type": "code",
   "execution_count": 3,
   "metadata": {},
   "outputs": [],
   "source": [
    "labels = os.listdir(\"D:/projects/ZInc/New folder/books\")\n",
    "book_data = []\n",
    "books = os.listdir(\"D:/projects/ZInc/New folder/book_txt\")\n",
    "for book in books :\n",
    "    with open(\"D:/projects/ZInc/New folder/book_txt/\" + book ) as f:\n",
    "        book_data.append(f.readlines)"
   ]
  },
  {
   "cell_type": "code",
   "execution_count": 13,
   "metadata": {},
   "outputs": [],
   "source": [
    "\n",
    "#for i , _d in enumerate(data):\n",
    "   # _d.split()\n",
    "   # token_list = []\n",
    "   # for token in _d:\n",
    "   #     token_list.append(token)\n",
    "    #tagged_data = TaggedDocument(words =word_tokenize(_d), tags=[str(i)])\n",
    "tagged_data =  [TaggedDocument(words=word_tokenize(_d), tags=[str(i)]) for i, _d in enumerate(data)]\n"
   ]
  },
  {
   "cell_type": "code",
   "execution_count": 14,
   "metadata": {},
   "outputs": [
    {
     "name": "stdout",
     "output_type": "stream",
     "text": [
      "<class 'list'>\n",
      "TaggedDocument(['1frequentlyaskedquestionsfaqshomeloanclosehomeloanchargesprepayingloanprepaymentcharges1nilhomeloanshomeimprovementloansfloatingrateinterest22plusapplicabletaxesprincipaloutstandingfullrepaymenthomeloansfixedrateinterest32plusapplicabletaxesprincipaloutstandingfullrepaymenthomeloantoploanapplicantcoapplicantnonindividualplusapplicabletaxesprincipaloutstandingloangivennonindividualborrowersfixedrateinterestindividualborrowersloansanctionedpriormarch2011prepaymentchargeswouldplusapplicabletaxescurrentprincipaloutstandingamountstenderedborrowertowardsprepaymentfacilitylastoneyeardatefinalprepaymenthomeequityloanhomeequityenhancementloanofficepremisesloanleaserentaldiscountingloanmakepartprepaymenthomeloanaccount2nefticicibankyesicicibankacceptspartpaymenthomeloannationalelectronicfundstransferneftcasewantmakepartpaymenthomeloanaccountneftneedvisitnearesticicibankassetservicingbranchservicerequestnumberreceivedbranchmustmentionedremarkscolumnneftformmakingpartpaymentneftpleasenotenefttransactionsinvalidrequestnumbersrejectedminimumpartprepaymentamountneedpay3takehomeloanminimumpartprepaymentamountamountequivalentemioptincreaseemidecreaseemifutureemiincreaseddecreasedlaterdateexceptcasepartprepaymentconversionmayvisitnearesticicibankloanbranchassistancelocatenearesticicibankbranchvisitmapsicicibankcommobilegetfinancialyearincometaxcertificateemailmakerequestincometaxcertificatefollowingchannelsonlineprocesswithoutloginvisitwebsitewwwicicibankcomclickapplyonlineclickstatementhomeloanclickcontinueloginenter16digitalphanumericloanaccountnumberalongtwodetailsdobloanamountemiamountrepaymentbankaccountnumberclicksubmitinternetbankingloginwwwicicibankcomuseridpasswordmainpagecustomerserviceservicerequestsservicerequestsearchproductselecthomeloanrelatedrequestfinalcertificatephysicalimobileloginimobileselectcardsloansforexiconselectloanaccountselectoptionsselectincometaxcertificatecustomercaremaycallcustomercaregetincometaxcertificateregisteredemailidknowlocalcustomercarenumberspleaseclickicicibankbranchmayvisitnearesticicibankassetservicingbranchalongvalididproofmaylooknearesticicibankassetservicingbranchwebsitewwwicicibankcomfindatmbranchchangeemailidhomeloanaccountchangeemailidhomeloanaccountfollowingchannelsinternetbankingpleaseloginwwwicicibankcomuseridpasswordcustomerserviceservicerequestscategoryloanloanaccountsemailcontactnumberupdationcustomercaremaycallcustomercarechangemobilenumberknowlocalcustomercarenumberspleaseclickicicibankbranchmayvisitnearesticicibankassetservicingbranchalongvalididproofmaylooknearesticicibankassetservicingbranchwebsitewwwicicibankcomfindatmbranchapplyhomeloanapplyicicibankhomeloanwebsitewwwicicibankcomvisitnearesticicibankbranch10equatedmonthlyinstalmentemihomeloancalculatedbanksfinancialinstitutionsgeneralcalculateequatedmonthlyinstalmentemihomeloancommonmathematicalformulahenceemicalculatedbasisloanamounttenureinterestratebanktakeoutstandingloanamountendmonthmultiplyinterestrateappliesloandivideamount12calculatehomeloanemiclick11homeloanfundsprovidedindividualentitypurchaseconstructionextensionrenovationresidentialpropertycalledhomeloan12documentsrequiredapplyinghomeloandocumentsrequiredapplyinghomeloanloanapplicationformaddressproofidentifyprooffinancialdocumentsknowclick13parametersarrivinghomeloaneligibilityhomeloaneligibilitycalculatedconsideringvariousfactorsincludingmonthlyincomefixedmonthlyobligationcurrentageretirementageetchomeloaneligibilityalsoconsideredindicatorhomeloanaffordabilitycheckeligibilityclick14understandfloatingrateinteresthomeloanfloatingrateinterestloanslinkedbenchmarkratehencewheneverbankincreasesdecreasesbenchmarkrateinterestratesloansfluctuateaccordinglyemitenureloanincreasedecrease15understandfixedrateinteresthomeloanfixedrateinterestloanwouldmeaninterestrateloanwouldremainfixedthroughouttenureloanhenceemiloanwouldremainfixed16taxbenefitavailablehomeloansyesclaimdeductionsincometaxreturnprincipalinterestpaymentsmaketowardsrepaymenthomeloanstypeamountincometaxdeductionavailablerepaymenthomeloangovernedapplicableincometaxlawsgovernmentindia'], ['0'])\n"
     ]
    }
   ],
   "source": [
    "print(type(tagged_data))\n",
    "with open(\"fie.txt\" , \"w\") as f:\n",
    "    for data in tagged_data:\n",
    "        print(data)\n",
    "        break\n",
    "        print(type(data))\n",
    "        f.writelines(data)\n",
    "        f.writeline(\"__________________________________________________________________________________________________________________________________________________________________-\")"
   ]
  },
  {
   "cell_type": "code",
   "execution_count": 15,
   "metadata": {},
   "outputs": [
    {
     "name": "stdout",
     "output_type": "stream",
     "text": [
      "Doc2Vec(dbow,d100,n5,mc2,t8) vocabulary scanned & state initialized\n",
      "Doc2Vec(\"alpha=0.05\",dm/m,d100,n5,w10,mc2,t8) vocabulary scanned & state initialized\n",
      "Doc2Vec(dm/c,d100,n5,w5,mc2,t8) vocabulary scanned & state initialized\n"
     ]
    }
   ],
   "source": [
    "simple_models = [\n",
    "    # PV-DBOW plain\n",
    "    Doc2Vec(dm=0, vector_size=100, negative=5, hs=0, min_count=2, sample=0, \n",
    "            epochs=20, workers=cores),\n",
    "    # PV-DM w/ default averaging; a higher starting alpha may improve CBOW/PV-DM modes\n",
    "    Doc2Vec(dm=1, vector_size=100, window=10, negative=5, hs=0, min_count=2, sample=0, \n",
    "            epochs=20, workers=cores, alpha=0.05, comment='alpha=0.05'),\n",
    "    # PV-DM w/ concatenation - big, slow, experimental mode\n",
    "    # window=5 (both sides) approximates paper's apparent 10-word total window size\n",
    "    Doc2Vec(dm=1, dm_concat=1, vector_size=100, window=5, negative=5, hs=0, min_count=2, sample=0, \n",
    "            epochs=20, workers=cores),\n",
    "]\n",
    "\n",
    "\n",
    "for model in simple_models:\n",
    "    model.build_vocab(tagged_data) \n",
    "    print(\"%s vocabulary scanned & state initialized\" % model)\n",
    "    \n",
    "#models_by_name = OrderedDict((str(model), model) for model in simple_models)\n",
    "#models_by_name['dbow+dmm'] = ConcatenatedDoc2Vec([simple_models[0], simple_models[1]])\n",
    "#models_by_name['dbow+dmc'] = ConcatenatedDoc2Vec([simple_models[0], simple_models[2]])"
   ]
  },
  {
   "cell_type": "code",
   "execution_count": 8,
   "metadata": {},
   "outputs": [
    {
     "name": "stdout",
     "output_type": "stream",
     "text": [
      "dark thing ka vectors :\n",
      "[-0.00023794 -0.00205186 -0.00017159  0.00235376 -0.00079174  0.000703\n",
      " -0.00231546  0.00382826  0.00278873  0.00073831  0.00105287 -0.00414373\n",
      " -0.00426359  0.00173406 -0.00237964 -0.00346691  0.00180839 -0.00081183\n",
      " -0.00375611 -0.00353242 -0.00385743 -0.00048714 -0.00288706 -0.00079636\n",
      "  0.0042045   0.00312094 -0.00480337  0.00038783 -0.00282362 -0.00096651\n",
      " -0.00227    -0.00293459  0.000706   -0.00483542  0.00091877  0.00259089\n",
      "  0.00221107  0.00208079  0.00391033  0.00261161  0.00268586  0.00093487\n",
      " -0.00173613 -0.00230469 -0.00191507  0.00277865 -0.00173593 -0.0046616\n",
      "  0.0035397   0.00433089  0.0028411   0.00044005  0.00478334 -0.00270853\n",
      "  0.00025199 -0.00486119 -0.00375389  0.00369147 -0.00448352  0.00408629\n",
      " -0.00265964 -0.00495759  0.0030758   0.00075873  0.00139824  0.00305071\n",
      " -0.00142781  0.00233499  0.00156522  0.00107559  0.00034655 -0.00488262\n",
      "  0.00295751  0.00404484 -0.00172755 -0.00070128  0.00256612  0.00024379\n",
      " -0.00275635 -0.00079171 -0.00411556 -0.00093199  0.00100924 -0.00496191\n",
      " -0.00202513 -0.00346105  0.00326565 -0.00436789 -0.00263947 -0.00124379\n",
      "  0.0040415  -0.00268303 -0.00335722  0.00119385  0.00287513  0.00136149\n",
      " -0.00093847  0.00167098 -0.00342701  0.00248719]\n"
     ]
    }
   ],
   "source": [
    "''''\n",
    "#max_epochs = 100\n",
    "#vec_size = 20\n",
    "#alpha = 0.025\n",
    "model = Doc2Vec(size=vec_size,\n",
    "                alpha=alpha, \n",
    "                min_alpha=0.00025,\n",
    "                min_count=1,\n",
    "                dm =1)\n",
    "print(\"biulding model\")\n",
    "model.build_vocab(tagged_data)\n",
    "\n",
    "print(\"model training\")\n",
    "for epoch in range(max_epochs):\n",
    "    print('iteration {0}'.format(epoch))\n",
    "    model.train(tagged_data,\n",
    "                total_examples=model.corpus_count,\n",
    "                epochs=model.iter)\n",
    "    # decrease the learning rate\n",
    "    model.alpha -= 0.0002\n",
    "    # fix the learning rate, no decay\n",
    "    model.min_alpha = model.alpha\n",
    "\n",
    "print(\"saving model\")\n",
    "model.save(\"d2v.model\")\n",
    "print(\"Model Saved\")\n",
    "\n",
    "print(\"loading saved model\")\n",
    "model= Doc2Vec.load(\"d2v.model\")\n",
    "#to find the vector of a document which is not in training data\n",
    "test_data = word_tokenize(\"I love chatbots\".lower())\n",
    "v1 = model.infer_vector(test_data)\n",
    "print(\"V1_infer\", v1)\n",
    "\n",
    "# to find most similar doc using tags\n",
    "#similar_doc = model.docvecs.most_similar('1')\n",
    "#print(similar_doc)\n",
    "'''\n",
    "\n",
    "# to find vector of doc in training data using tags or in other words, printing the vector of document at index 1 in training data\n",
    "print(\"dark thing ka vectors :\")\n",
    "print( model.docvecs[0])"
   ]
  },
  {
   "cell_type": "code",
   "execution_count": 16,
   "metadata": {},
   "outputs": [
    {
     "name": "stdout",
     "output_type": "stream",
     "text": [
      "[[ -60.312317  141.36963 ]\n",
      " [  60.31256  -141.36914 ]]\n",
      "AxesSubplot(0.125,0.125;0.775x0.755)\n",
      "[[ -60.312317  141.36963 ]\n",
      " [  60.31256  -141.36914 ]]\n",
      "AxesSubplot(0.125,0.125;0.775x0.755)\n",
      "[[ -60.312317  141.36963 ]\n",
      " [  60.31256  -141.36914 ]]\n",
      "AxesSubplot(0.125,0.125;0.775x0.755)\n"
     ]
    },
    {
     "data": {
      "image/png": "[encoded data removed]",
      "text/plain": [
       "<Figure size 1440x720 with 1 Axes>"
      ]
     },
     "metadata": {
      "needs_background": "light"
     },
     "output_type": "display_data"
    },
    {
     "data": {
      "image/png": "[encoded data removed]",
      "text/plain": [
       "<Figure size 1440x720 with 1 Axes>"
      ]
     },
     "metadata": {
      "needs_background": "light"
     },
     "output_type": "display_data"
    },
    {
     "data": {
      "image/png": "[encoded data removed]",
      "text/plain": [
       "<Figure size 1440x720 with 1 Axes>"
      ]
     },
     "metadata": {
      "needs_background": "light"
     },
     "output_type": "display_data"
    }
   ],
   "source": [
    "cout = 0\n",
    "for model in simple_models:\n",
    "    cout = cout + 1\n",
    "    doc_embeddings = model.docvecs.vectors_docs\n",
    "    \n",
    "    tsne = TSNE(n_components=2, random_state=0)\n",
    "    Y = tsne.fit_transform(doc_embeddings)\n",
    "    print(Y)\n",
    "    x_coords = Y[:, 0]\n",
    "    y_coords = Y[:, 1]\n",
    "    labels = os.listdir(\"D:/projects/ZInc/New folder/book_txt\")\n",
    "    plt.figure(figsize=(20,10))\n",
    "\n",
    "    ax = sns.scatterplot(x=x_coords, y=y_coords,size = 8, legend = False)\n",
    "    for line in range(0,len(x_coords)):\n",
    "        ax.text(x_coords[line] +0.01 , y_coords[line],labels[line],\n",
    "         size='large', color='black', weight='semibold')\n",
    "\n",
    "\n",
    "    fig = ax.get_figure()\n",
    "    fig.savefig(\"plot_1\" +str(cout))\n",
    "    print(ax)"
   ]
  },
  {
   "cell_type": "code",
   "execution_count": null,
   "metadata": {},
   "outputs": [],
   "source": []
  }
 ],
 "metadata": {
  "kernelspec": {
   "display_name": "Python 3",
   "language": "python",
   "name": "python3"
  },
  "language_info": {
   "codemirror_mode": {
    "name": "ipython",
    "version": 3
   },
   "file_extension": ".py",
   "mimetype": "text/x-python",
   "name": "python",
   "nbconvert_exporter": "python",
   "pygments_lexer": "ipython3",
   "version": "3.7.6"
  }
 },
 "nbformat": 4,
 "nbformat_minor": 4
}
